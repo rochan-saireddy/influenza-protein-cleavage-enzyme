{
  "nbformat": 4,
  "nbformat_minor": 0,
  "metadata": {
    "colab": {
      "provenance": [],
      "authorship_tag": "ABX9TyO5v8zJPmaEzzokIsrDuYDw",
      "include_colab_link": true
    },
    "kernelspec": {
      "name": "python3",
      "display_name": "Python 3"
    },
    "language_info": {
      "name": "python"
    }
  },
  "cells": [
    {
      "cell_type": "markdown",
      "metadata": {
        "id": "view-in-github",
        "colab_type": "text"
      },
      "source": [
        "<a href=\"https://colab.research.google.com/github/rochan-saireddy/influenza-protein-cleavage-enzyme/blob/main/PDB_CLEANUP_BIOPY.ipynb\" target=\"_parent\"><img src=\"https://colab.research.google.com/assets/colab-badge.svg\" alt=\"Open In Colab\"/></a>"
      ]
    },
    {
      "cell_type": "code",
      "execution_count": 3,
      "metadata": {
        "colab": {
          "base_uri": "https://localhost:8080/"
        },
        "id": "ugWvEG0browc",
        "outputId": "f8aa8fb4-7d71-443c-cda5-b30cad726895"
      },
      "outputs": [
        {
          "output_type": "stream",
          "name": "stdout",
          "text": [
            "Collecting biopython\n",
            "  Downloading biopython-1.85-cp311-cp311-manylinux_2_17_x86_64.manylinux2014_x86_64.whl.metadata (13 kB)\n",
            "Requirement already satisfied: numpy in /usr/local/lib/python3.11/dist-packages (from biopython) (2.0.2)\n",
            "Downloading biopython-1.85-cp311-cp311-manylinux_2_17_x86_64.manylinux2014_x86_64.whl (3.3 MB)\n",
            "\u001b[2K   \u001b[90m━━━━━━━━━━━━━━━━━━━━━━━━━━━━━━━━━━━━━━━━\u001b[0m \u001b[32m3.3/3.3 MB\u001b[0m \u001b[31m34.9 MB/s\u001b[0m eta \u001b[36m0:00:00\u001b[0m\n",
            "\u001b[?25hInstalling collected packages: biopython\n",
            "Successfully installed biopython-1.85\n",
            "[✔] Cleaned: /content/clean/1sbt.pdb\n",
            "[✔] Backbone: /content/backbone/1sbt_backbone.pdb\n",
            "[✔] Cleaned: /content/clean/3wqb.pdb\n",
            "[✔] Backbone: /content/backbone/3wqb_backbone.pdb\n"
          ]
        }
      ],
      "source": [
        "!pip install biopython\n",
        "from Bio import PDB\n",
        "import os\n",
        "\n",
        "# Paths\n",
        "input_files = ['1sbt.pdb', '3wqb.pdb']\n",
        "\n",
        "# Set up output folders\n",
        "os.makedirs('/content/clean', exist_ok=True)\n",
        "os.makedirs('/content/backbone', exist_ok=True)\n",
        "\n",
        "# Cleaning and backbone strip\n",
        "for pdb_file in input_files:\n",
        "    parser = PDB.PDBParser(QUIET=True)\n",
        "    structure = parser.get_structure(pdb_file.split('.')[0], pdb_file)\n",
        "\n",
        "    # CLEAN: remove all chains except A, and non-AA residues\n",
        "    class CleanSelect(PDB.Select):\n",
        "        def accept_chain(self, chain):\n",
        "            return chain.get_id() == 'A'\n",
        "        def accept_residue(self, residue):\n",
        "            return residue.id[0] == ' '\n",
        "\n",
        "    clean_out = f'/content/clean/{pdb_file}'\n",
        "    io = PDB.PDBIO()\n",
        "    io.set_structure(structure)\n",
        "    io.save(clean_out, CleanSelect())\n",
        "\n",
        "    # RELOAD cleaned structure\n",
        "    structure_clean = parser.get_structure(f'{pdb_file}_clean', clean_out)\n",
        "\n",
        "    # STRIP: keep only backbone atoms\n",
        "    class BackboneOnly(PDB.Select):\n",
        "        def accept_atom(self, atom):\n",
        "            return atom.get_name() in ['N', 'CA', 'C', 'O']\n",
        "\n",
        "    backbone_out = f'/content/backbone/{pdb_file.split(\".\")[0]}_backbone.pdb'\n",
        "    io.set_structure(structure_clean)\n",
        "    io.save(backbone_out, BackboneOnly())\n",
        "\n",
        "    print(f'[✔] Cleaned: {clean_out}')\n",
        "    print(f'[✔] Backbone: {backbone_out}')\n"
      ]
    }
  ]
}